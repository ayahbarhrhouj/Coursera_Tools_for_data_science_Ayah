{
 "cells": [
  {
   "cell_type": "markdown",
   "id": "6da72ace",
   "metadata": {},
   "source": [
    "<h1>My Jupyter Notebook on IBM Watson Studio</h1>"
   ]
  },
  {
   "cell_type": "markdown",
   "id": "e12e57d8",
   "metadata": {},
   "source": [
    "<b>Ayah BARHRHOUJ<b>\n",
    "<p> Data Scientist<p>    "
   ]
  },
  {
   "cell_type": "markdown",
   "id": "859759a6",
   "metadata": {},
   "source": [
    "<i>I am interested in data science because it gives a meaning to the data. Also i enjoy problem solving and statistical analysis.</i>"
   ]
  },
  {
   "cell_type": "markdown",
   "id": "0bcb393d",
   "metadata": {},
   "source": [
    "<h3>The following code calculates the sum of two given numbers</h3>"
   ]
  },
  {
   "cell_type": "code",
   "execution_count": 2,
   "id": "7bd9ebb3",
   "metadata": {},
   "outputs": [
    {
     "data": {
      "text/plain": [
       "3"
      ]
     },
     "execution_count": 2,
     "metadata": {},
     "output_type": "execute_result"
    }
   ],
   "source": [
    "def sum(a,b):\n",
    "    return a+b\n",
    "\n",
    "sum(1,2)"
   ]
  },
  {
   "cell_type": "markdown",
   "id": "20f653e6",
   "metadata": {},
   "source": [
    "<div>\n",
    "    <li>Ayah Barhrhouj</li>\n",
    "    <li>22 years old</li>\n",
    "</div>\n",
    "<div>\n",
    "    <hr>\n",
    "</div>\n",
    "<div>\n",
    "    <table>\n",
    "        <tr>\n",
    "            <th>First Name</th>\n",
    "            <th>Last Name</th>\n",
    "            <th>Age</th>\n",
    "        </tr>\n",
    "        <tr>\n",
    "            <td>Ayah</td>\n",
    "            <td>Barhrhouj</td>\n",
    "            <td>22</td>\n",
    "        </tr>    \n",
    "    </table>\n",
    "</div>"
   ]
  }
 ],
 "metadata": {
  "kernelspec": {
   "display_name": "Python 3 (ipykernel)",
   "language": "python",
   "name": "python3"
  },
  "language_info": {
   "codemirror_mode": {
    "name": "ipython",
    "version": 3
   },
   "file_extension": ".py",
   "mimetype": "text/x-python",
   "name": "python",
   "nbconvert_exporter": "python",
   "pygments_lexer": "ipython3",
   "version": "3.9.12"
  }
 },
 "nbformat": 4,
 "nbformat_minor": 5
}
